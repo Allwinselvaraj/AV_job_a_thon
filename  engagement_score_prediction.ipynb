{
 "cells": [
  {
   "cell_type": "code",
   "execution_count": 1,
   "id": "090555b6",
   "metadata": {},
   "outputs": [],
   "source": [
    "# Importing the required libraries\n",
    "import pandas as pd\n",
    "import numpy as np\n",
    "import matplotlib.pyplot as plt\n",
    "\n",
    "import warnings\n",
    "warnings.filterwarnings('ignore')\n"
   ]
  },
  {
   "cell_type": "code",
   "execution_count": 16,
   "id": "6b17172a",
   "metadata": {},
   "outputs": [],
   "source": [
    "# Sklearn libraries\n",
    "\n",
    "from sklearn.preprocessing import LabelEncoder\n",
    "from sklearn.preprocessing import StandardScaler\n",
    "from sklearn.model_selection import train_test_split\n",
    "from sklearn.metrics import r2_score\n",
    "\n",
    "from sklearn.linear_model import LinearRegression\n"
   ]
  },
  {
   "cell_type": "code",
   "execution_count": 2,
   "id": "46e7e224",
   "metadata": {},
   "outputs": [],
   "source": [
    "# import dataset\n",
    "df = pd.read_csv('train_0OECtn8.csv')"
   ]
  },
  {
   "cell_type": "code",
   "execution_count": 3,
   "id": "5d51a148",
   "metadata": {},
   "outputs": [
    {
     "data": {
      "text/html": [
       "<div>\n",
       "<style scoped>\n",
       "    .dataframe tbody tr th:only-of-type {\n",
       "        vertical-align: middle;\n",
       "    }\n",
       "\n",
       "    .dataframe tbody tr th {\n",
       "        vertical-align: top;\n",
       "    }\n",
       "\n",
       "    .dataframe thead th {\n",
       "        text-align: right;\n",
       "    }\n",
       "</style>\n",
       "<table border=\"1\" class=\"dataframe\">\n",
       "  <thead>\n",
       "    <tr style=\"text-align: right;\">\n",
       "      <th></th>\n",
       "      <th>row_id</th>\n",
       "      <th>user_id</th>\n",
       "      <th>category_id</th>\n",
       "      <th>video_id</th>\n",
       "      <th>age</th>\n",
       "      <th>gender</th>\n",
       "      <th>profession</th>\n",
       "      <th>followers</th>\n",
       "      <th>views</th>\n",
       "      <th>engagement_score</th>\n",
       "    </tr>\n",
       "  </thead>\n",
       "  <tbody>\n",
       "    <tr>\n",
       "      <th>0</th>\n",
       "      <td>1</td>\n",
       "      <td>19990</td>\n",
       "      <td>37</td>\n",
       "      <td>128</td>\n",
       "      <td>24</td>\n",
       "      <td>Male</td>\n",
       "      <td>Student</td>\n",
       "      <td>180</td>\n",
       "      <td>1000</td>\n",
       "      <td>4.33</td>\n",
       "    </tr>\n",
       "    <tr>\n",
       "      <th>1</th>\n",
       "      <td>2</td>\n",
       "      <td>5304</td>\n",
       "      <td>32</td>\n",
       "      <td>132</td>\n",
       "      <td>14</td>\n",
       "      <td>Female</td>\n",
       "      <td>Student</td>\n",
       "      <td>330</td>\n",
       "      <td>714</td>\n",
       "      <td>1.79</td>\n",
       "    </tr>\n",
       "    <tr>\n",
       "      <th>2</th>\n",
       "      <td>3</td>\n",
       "      <td>1840</td>\n",
       "      <td>12</td>\n",
       "      <td>24</td>\n",
       "      <td>19</td>\n",
       "      <td>Male</td>\n",
       "      <td>Student</td>\n",
       "      <td>180</td>\n",
       "      <td>138</td>\n",
       "      <td>4.35</td>\n",
       "    </tr>\n",
       "    <tr>\n",
       "      <th>3</th>\n",
       "      <td>4</td>\n",
       "      <td>12597</td>\n",
       "      <td>23</td>\n",
       "      <td>112</td>\n",
       "      <td>19</td>\n",
       "      <td>Male</td>\n",
       "      <td>Student</td>\n",
       "      <td>220</td>\n",
       "      <td>613</td>\n",
       "      <td>3.77</td>\n",
       "    </tr>\n",
       "    <tr>\n",
       "      <th>4</th>\n",
       "      <td>5</td>\n",
       "      <td>13626</td>\n",
       "      <td>23</td>\n",
       "      <td>112</td>\n",
       "      <td>27</td>\n",
       "      <td>Male</td>\n",
       "      <td>Working Professional</td>\n",
       "      <td>220</td>\n",
       "      <td>613</td>\n",
       "      <td>3.13</td>\n",
       "    </tr>\n",
       "  </tbody>\n",
       "</table>\n",
       "</div>"
      ],
      "text/plain": [
       "   row_id  user_id  category_id  video_id  age  gender            profession  \\\n",
       "0       1    19990           37       128   24    Male               Student   \n",
       "1       2     5304           32       132   14  Female               Student   \n",
       "2       3     1840           12        24   19    Male               Student   \n",
       "3       4    12597           23       112   19    Male               Student   \n",
       "4       5    13626           23       112   27    Male  Working Professional   \n",
       "\n",
       "   followers  views  engagement_score  \n",
       "0        180   1000              4.33  \n",
       "1        330    714              1.79  \n",
       "2        180    138              4.35  \n",
       "3        220    613              3.77  \n",
       "4        220    613              3.13  "
      ]
     },
     "execution_count": 3,
     "metadata": {},
     "output_type": "execute_result"
    }
   ],
   "source": [
    "#lets show the head of the dataset\n",
    "df.head()"
   ]
  },
  {
   "cell_type": "code",
   "execution_count": 4,
   "id": "a8276f8e",
   "metadata": {},
   "outputs": [
    {
     "data": {
      "text/plain": [
       "(89197, 10)"
      ]
     },
     "execution_count": 4,
     "metadata": {},
     "output_type": "execute_result"
    }
   ],
   "source": [
    "# find the shape of the dataset\n",
    "df.shape"
   ]
  },
  {
   "cell_type": "code",
   "execution_count": 5,
   "id": "1386701d",
   "metadata": {},
   "outputs": [
    {
     "data": {
      "text/plain": [
       "row_id              0\n",
       "user_id             0\n",
       "category_id         0\n",
       "video_id            0\n",
       "age                 0\n",
       "gender              0\n",
       "profession          0\n",
       "followers           0\n",
       "views               0\n",
       "engagement_score    0\n",
       "dtype: int64"
      ]
     },
     "execution_count": 5,
     "metadata": {},
     "output_type": "execute_result"
    }
   ],
   "source": [
    "# lets check of the dataset has null values\n",
    "df.isnull().sum()"
   ]
  },
  {
   "cell_type": "code",
   "execution_count": 6,
   "id": "277af228",
   "metadata": {},
   "outputs": [
    {
     "data": {
      "text/plain": [
       "row_id              89197\n",
       "user_id             27734\n",
       "category_id            47\n",
       "video_id              175\n",
       "age                    58\n",
       "gender                  2\n",
       "profession              3\n",
       "followers              17\n",
       "views                  43\n",
       "engagement_score      229\n",
       "dtype: int64"
      ]
     },
     "execution_count": 6,
     "metadata": {},
     "output_type": "execute_result"
    }
   ],
   "source": [
    "#Show unique values in the collumn\n",
    "df.nunique()"
   ]
  },
  {
   "cell_type": "markdown",
   "id": "ed5e86b0",
   "metadata": {},
   "source": [
    "# Data preparation\n"
   ]
  },
  {
   "cell_type": "code",
   "execution_count": 8,
   "id": "c7881de1",
   "metadata": {},
   "outputs": [
    {
     "data": {
      "text/plain": [
       "Index(['row_id', 'user_id', 'category_id', 'video_id', 'age', 'gender',\n",
       "       'profession', 'followers', 'views', 'engagement_score'],\n",
       "      dtype='object')"
      ]
     },
     "execution_count": 8,
     "metadata": {},
     "output_type": "execute_result"
    }
   ],
   "source": [
    "#print the column names\n",
    "df.columns"
   ]
  },
  {
   "cell_type": "code",
   "execution_count": 11,
   "id": "ac0c0e9c",
   "metadata": {},
   "outputs": [],
   "source": [
    "# lets drop the unwanted columns And assign the features to  X, target to y\n",
    "X= df.drop(['row_id', 'user_id', 'category_id', 'video_id','engagement_score'], axis=1)\n",
    "y = df['engagement_score']\n"
   ]
  },
  {
   "cell_type": "code",
   "execution_count": 17,
   "id": "e4a7ef81",
   "metadata": {},
   "outputs": [
    {
     "data": {
      "text/html": [
       "<div>\n",
       "<style scoped>\n",
       "    .dataframe tbody tr th:only-of-type {\n",
       "        vertical-align: middle;\n",
       "    }\n",
       "\n",
       "    .dataframe tbody tr th {\n",
       "        vertical-align: top;\n",
       "    }\n",
       "\n",
       "    .dataframe thead th {\n",
       "        text-align: right;\n",
       "    }\n",
       "</style>\n",
       "<table border=\"1\" class=\"dataframe\">\n",
       "  <thead>\n",
       "    <tr style=\"text-align: right;\">\n",
       "      <th></th>\n",
       "      <th>age</th>\n",
       "      <th>gender</th>\n",
       "      <th>profession</th>\n",
       "      <th>followers</th>\n",
       "      <th>views</th>\n",
       "    </tr>\n",
       "  </thead>\n",
       "  <tbody>\n",
       "    <tr>\n",
       "      <th>0</th>\n",
       "      <td>24</td>\n",
       "      <td>1</td>\n",
       "      <td>1</td>\n",
       "      <td>180</td>\n",
       "      <td>1000</td>\n",
       "    </tr>\n",
       "    <tr>\n",
       "      <th>1</th>\n",
       "      <td>14</td>\n",
       "      <td>0</td>\n",
       "      <td>1</td>\n",
       "      <td>330</td>\n",
       "      <td>714</td>\n",
       "    </tr>\n",
       "    <tr>\n",
       "      <th>2</th>\n",
       "      <td>19</td>\n",
       "      <td>1</td>\n",
       "      <td>1</td>\n",
       "      <td>180</td>\n",
       "      <td>138</td>\n",
       "    </tr>\n",
       "    <tr>\n",
       "      <th>3</th>\n",
       "      <td>19</td>\n",
       "      <td>1</td>\n",
       "      <td>1</td>\n",
       "      <td>220</td>\n",
       "      <td>613</td>\n",
       "    </tr>\n",
       "    <tr>\n",
       "      <th>4</th>\n",
       "      <td>27</td>\n",
       "      <td>1</td>\n",
       "      <td>2</td>\n",
       "      <td>220</td>\n",
       "      <td>613</td>\n",
       "    </tr>\n",
       "  </tbody>\n",
       "</table>\n",
       "</div>"
      ],
      "text/plain": [
       "   age  gender  profession  followers  views\n",
       "0   24       1           1        180   1000\n",
       "1   14       0           1        330    714\n",
       "2   19       1           1        180    138\n",
       "3   19       1           1        220    613\n",
       "4   27       1           2        220    613"
      ]
     },
     "execution_count": 17,
     "metadata": {},
     "output_type": "execute_result"
    }
   ],
   "source": [
    "# encoding catagorical feature\n",
    "encoder = LabelEncoder()\n",
    "\n",
    "cat_col=['gender', 'profession']\n",
    "\n",
    "for col in cat_col:\n",
    "    X[col]=encoder.fit_transform(X[col])\n",
    "    \n",
    "X.head()"
   ]
  },
  {
   "cell_type": "code",
   "execution_count": 18,
   "id": "74b3a74d",
   "metadata": {},
   "outputs": [
    {
     "data": {
      "text/plain": [
       "age           58\n",
       "gender         2\n",
       "profession     3\n",
       "followers     17\n",
       "views         43\n",
       "dtype: int64"
      ]
     },
     "execution_count": 18,
     "metadata": {},
     "output_type": "execute_result"
    }
   ],
   "source": [
    "X.nunique()"
   ]
  },
  {
   "cell_type": "markdown",
   "id": "9a64d3b6",
   "metadata": {},
   "source": [
    "# Train test spilt"
   ]
  },
  {
   "cell_type": "code",
   "execution_count": 19,
   "id": "8cfad62b",
   "metadata": {},
   "outputs": [],
   "source": [
    "#spliting the dataset into train test\n",
    "X_train, X_test, y_train, y_test =train_test_split(X,y, test_size=0.33, random_state=42)"
   ]
  },
  {
   "cell_type": "raw",
   "id": "f6a0a167",
   "metadata": {},
   "source": [
    "print(X_train.shape)\n",
    "print(X_test.shape)\n",
    "print(y_train.shape)\n",
    "print(y_test.shape)"
   ]
  },
  {
   "cell_type": "markdown",
   "id": "ead79f23",
   "metadata": {},
   "source": [
    "# Data Standardization"
   ]
  },
  {
   "cell_type": "code",
   "execution_count": 27,
   "id": "771a2901",
   "metadata": {},
   "outputs": [],
   "source": [
    "#lets standardize the dataset\n",
    "\n",
    "scaler = StandardScaler()\n",
    "\n",
    "\n",
    "X_train= scaler.fit_transform(X_train)\n",
    "X_test = scaler.fit_transform(X_test)"
   ]
  },
  {
   "cell_type": "code",
   "execution_count": 28,
   "id": "c0f924a1",
   "metadata": {},
   "outputs": [
    {
     "data": {
      "text/plain": [
       "array([[-0.87918513,  0.83962656,  0.14795203, -0.05634614, -1.20491027],\n",
       "       [-0.87918513, -1.19100568,  0.14795203,  0.8108446 ,  0.69046214],\n",
       "       [ 1.46787633,  0.83962656, -1.27951994, -0.27314382, -1.0224481 ],\n",
       "       ...,\n",
       "       [-1.32624446,  0.83962656,  0.14795203, -0.27314382, -1.0224481 ],\n",
       "       [-0.87918513, -1.19100568,  0.14795203,  0.37724923,  0.43724932],\n",
       "       [ 1.3561115 , -1.19100568, -1.27951994,  1.89483302,  0.46331535]])"
      ]
     },
     "execution_count": 28,
     "metadata": {},
     "output_type": "execute_result"
    }
   ],
   "source": [
    "X_train\n"
   ]
  },
  {
   "cell_type": "markdown",
   "id": "c49c446c",
   "metadata": {},
   "source": [
    "# Using Linear regression"
   ]
  },
  {
   "cell_type": "code",
   "execution_count": 29,
   "id": "95e9aaff",
   "metadata": {},
   "outputs": [
    {
     "data": {
      "text/plain": [
       "LinearRegression()"
      ]
     },
     "execution_count": 29,
     "metadata": {},
     "output_type": "execute_result"
    }
   ],
   "source": [
    "le = LinearRegression()\n",
    "\n",
    "le.fit(X_train, y_train)"
   ]
  },
  {
   "cell_type": "code",
   "execution_count": 30,
   "id": "c5fe3f2b",
   "metadata": {},
   "outputs": [],
   "source": [
    "y_train_pred=le.predict(X_train)\n",
    "y_test_pred=le.predict(X_test)"
   ]
  },
  {
   "cell_type": "code",
   "execution_count": 32,
   "id": "8e58cf57",
   "metadata": {},
   "outputs": [
    {
     "name": "stdout",
     "output_type": "stream",
     "text": [
      "train_score: 0.22830132666379555\n",
      "test_score: 0.23145825169563994\n"
     ]
    }
   ],
   "source": [
    "print(\"train_score:\",r2_score(y_train, y_train_pred))\n",
    "print(\"test_score:\", r2_score(y_test, y_test_pred))"
   ]
  },
  {
   "cell_type": "markdown",
   "id": "2e8e9e43",
   "metadata": {},
   "source": [
    "# Using XGBoost Regressor"
   ]
  },
  {
   "cell_type": "code",
   "execution_count": 35,
   "id": "0ae0b0e0",
   "metadata": {},
   "outputs": [],
   "source": [
    "#import xgboost\n",
    "from xgboost import XGBRegressor"
   ]
  },
  {
   "cell_type": "code",
   "execution_count": 36,
   "id": "f1b5ba58",
   "metadata": {},
   "outputs": [
    {
     "data": {
      "text/plain": [
       "XGBRegressor(base_score=0.5, booster='gbtree', colsample_bylevel=1,\n",
       "             colsample_bynode=1, colsample_bytree=1, enable_categorical=False,\n",
       "             gamma=0, gpu_id=-1, importance_type=None,\n",
       "             interaction_constraints='', learning_rate=0.01, max_delta_step=0,\n",
       "             max_depth=8, min_child_weight=1, missing=nan,\n",
       "             monotone_constraints='()', n_estimators=800, n_jobs=4,\n",
       "             num_parallel_tree=1, predictor='auto', random_state=0, reg_alpha=0,\n",
       "             reg_lambda=1, scale_pos_weight=1, subsample=1, tree_method='exact',\n",
       "             validate_parameters=1, verbosity=None)"
      ]
     },
     "execution_count": 36,
     "metadata": {},
     "output_type": "execute_result"
    }
   ],
   "source": [
    "xgb = XGBRegressor(n_estimators= 800, max_depth = 8, learning_rate=0.01)\n",
    "\n",
    "xgb.fit(X_train, y_train)"
   ]
  },
  {
   "cell_type": "code",
   "execution_count": 37,
   "id": "c176cab7",
   "metadata": {},
   "outputs": [],
   "source": [
    "y_train_pred=xgb.predict(X_train)\n",
    "y_test_pred=xgb.predict(X_test)"
   ]
  },
  {
   "cell_type": "code",
   "execution_count": 38,
   "id": "61c2d3a6",
   "metadata": {},
   "outputs": [
    {
     "name": "stdout",
     "output_type": "stream",
     "text": [
      "train_score: 0.38857758606944026\n",
      "test_score: 0.3516978488168968\n"
     ]
    }
   ],
   "source": [
    "print(\"train_score:\", r2_score(y_train,y_train_pred))\n",
    "print(\"test_score:\", r2_score(y_test,y_test_pred))"
   ]
  },
  {
   "cell_type": "markdown",
   "id": "a8d6bf72",
   "metadata": {},
   "source": [
    "#  Using RandomForest Regressor"
   ]
  },
  {
   "cell_type": "code",
   "execution_count": 40,
   "id": "d594f7bf",
   "metadata": {},
   "outputs": [],
   "source": [
    "#import randomforest\n",
    "from sklearn.ensemble import RandomForestRegressor\n",
    "from sklearn.model_selection import RandomizedSearchCV"
   ]
  },
  {
   "cell_type": "code",
   "execution_count": 41,
   "id": "eb04afd7",
   "metadata": {},
   "outputs": [],
   "source": [
    "rf = RandomForestRegressor(random_state=42)\n",
    "\n",
    "param= {\n",
    "       'max_depth': [4, 5, 8, 10, 12],\n",
    "       'min_samples_leaf':[50, 100, 150, 200],\n",
    "       'n_estimators': [300, 500,600,800, 900]\n",
    "}\n",
    "\n",
    "random_model_rf = RandomizedSearchCV(estimator = rf, param_distributions = param, cv = 5, verbose=2, random_state=42, n_jobs = -1, return_train_score=True)"
   ]
  },
  {
   "cell_type": "code",
   "execution_count": 42,
   "id": "f0d9f81b",
   "metadata": {},
   "outputs": [
    {
     "name": "stdout",
     "output_type": "stream",
     "text": [
      "Fitting 5 folds for each of 10 candidates, totalling 50 fits\n"
     ]
    },
    {
     "data": {
      "text/plain": [
       "RandomizedSearchCV(cv=5, estimator=RandomForestRegressor(random_state=42),\n",
       "                   n_jobs=-1,\n",
       "                   param_distributions={'max_depth': [4, 5, 8, 10, 12],\n",
       "                                        'min_samples_leaf': [50, 100, 150, 200],\n",
       "                                        'n_estimators': [300, 500, 600, 800,\n",
       "                                                         900]},\n",
       "                   random_state=42, return_train_score=True, verbose=2)"
      ]
     },
     "execution_count": 42,
     "metadata": {},
     "output_type": "execute_result"
    }
   ],
   "source": [
    "random_model_rf.fit(X_train, y_train)"
   ]
  },
  {
   "cell_type": "code",
   "execution_count": 44,
   "id": "baef7d77",
   "metadata": {},
   "outputs": [
    {
     "data": {
      "text/plain": [
       "RandomForestRegressor(max_depth=12, min_samples_leaf=50, n_estimators=800,\n",
       "                      random_state=42)"
      ]
     },
     "execution_count": 44,
     "metadata": {},
     "output_type": "execute_result"
    }
   ],
   "source": [
    "best_model= random_model_rf.best_estimator_\n",
    "best_model"
   ]
  },
  {
   "cell_type": "code",
   "execution_count": 46,
   "id": "ad54b940",
   "metadata": {},
   "outputs": [],
   "source": [
    "#prediction\n",
    "y_train_pred= best_model.predict(X_train)\n",
    "y_test_pred= best_model.predict(X_test)"
   ]
  },
  {
   "cell_type": "code",
   "execution_count": 47,
   "id": "541d3bf3",
   "metadata": {},
   "outputs": [
    {
     "name": "stdout",
     "output_type": "stream",
     "text": [
      "train_score: 0.3553492834900065\n",
      "test_score: 0.34315465534820855\n"
     ]
    }
   ],
   "source": [
    "#evaluation\n",
    "print('train_score:', r2_score(y_train, y_train_pred))\n",
    "print('test_score:', r2_score(y_test, y_test_pred))"
   ]
  },
  {
   "cell_type": "markdown",
   "id": "638150eb",
   "metadata": {},
   "source": [
    "Till now Xgb has the best r2_score .\n",
    "so now lets predict the score for the test dataset"
   ]
  },
  {
   "cell_type": "markdown",
   "id": "67ebfa72",
   "metadata": {},
   "source": [
    "# Test dataset \n",
    "import the test dataset and do the data preprocessing as we done for train dataset"
   ]
  },
  {
   "cell_type": "code",
   "execution_count": 49,
   "id": "890b18f9",
   "metadata": {},
   "outputs": [
    {
     "name": "stdout",
     "output_type": "stream",
     "text": [
      "Shape of the testdataset: (11121, 9)\n",
      "Columns in testdataset: Index(['row_id', 'user_id', 'category_id', 'video_id', 'age', 'gender',\n",
      "       'profession', 'followers', 'views'],\n",
      "      dtype='object')\n",
      "[4.093889  3.7791603 2.8066874 3.9227989 2.7812016 3.9506576 3.7628167\n",
      " 3.9249692 2.6174762 4.0590878]\n"
     ]
    }
   ],
   "source": [
    "#import test dataset\n",
    "t_df = pd.read_csv('test_1zqHu22.csv')\n",
    "\n",
    "#info of  test dataset\n",
    "print('Shape of the testdataset:', t_df.shape)\n",
    "print('Columns in testdataset:', t_df.columns)\n",
    "\n",
    "#data preprocessing\n",
    "new_t_df= t_df.drop(['row_id', 'user_id', 'category_id', 'video_id'], axis=1)\n",
    "\n",
    "# encoding the dataset\n",
    "cat_col=['gender', 'profession']\n",
    "for col in cat_col:\n",
    "    new_t_df[col]=encoder.fit_transform(new_t_df[col])\n",
    "    \n",
    "# Standardize the data\n",
    "all_test_col = new_t_df.columns\n",
    "new_t_df[all_test_col]= scaler.transform(new_t_df[all_test_col])\n",
    "\n",
    "# predict the engaement score from the xgb model\n",
    "\n",
    "target = xgb.predict(new_t_df)\n",
    "print(target[:10])"
   ]
  },
  {
   "cell_type": "code",
   "execution_count": 50,
   "id": "dfeea49d",
   "metadata": {},
   "outputs": [
    {
     "data": {
      "text/plain": [
       "<bound method NDFrame.head of        row_id  engagement_score\n",
       "0       89198          4.093889\n",
       "1       89199          3.779160\n",
       "2       89200          2.806687\n",
       "3       89201          3.922799\n",
       "4       89202          2.781202\n",
       "...       ...               ...\n",
       "11116  100314          3.918144\n",
       "11117  100315          3.512344\n",
       "11118  100316          3.887473\n",
       "11119  100317          3.726938\n",
       "11120  100318          3.486180\n",
       "\n",
       "[11121 rows x 2 columns]>"
      ]
     },
     "execution_count": 50,
     "metadata": {},
     "output_type": "execute_result"
    }
   ],
   "source": [
    "# submission of dataframe\n",
    "submission_df = pd.DataFrame({'row_id': t_df.row_id.values, 'engagement_score': target})\n",
    "\n",
    "submission_df"
   ]
  },
  {
   "cell_type": "code",
   "execution_count": 51,
   "id": "fa24083f",
   "metadata": {},
   "outputs": [
    {
     "name": "stdout",
     "output_type": "stream",
     "text": [
      "file save succesfully\n"
     ]
    }
   ],
   "source": [
    "# save to submission.csv\n",
    "\n",
    "submission_df.to_csv('submission.csv', index=False)\n",
    "print(\"file save succesfully\")"
   ]
  },
  {
   "cell_type": "code",
   "execution_count": null,
   "id": "2492815e",
   "metadata": {},
   "outputs": [],
   "source": []
  },
  {
   "cell_type": "code",
   "execution_count": null,
   "id": "0e5c7d49",
   "metadata": {},
   "outputs": [],
   "source": []
  }
 ],
 "metadata": {
  "kernelspec": {
   "display_name": "Python 3",
   "language": "python",
   "name": "python3"
  },
  "language_info": {
   "codemirror_mode": {
    "name": "ipython",
    "version": 3
   },
   "file_extension": ".py",
   "mimetype": "text/x-python",
   "name": "python",
   "nbconvert_exporter": "python",
   "pygments_lexer": "ipython3",
   "version": "3.8.8"
  }
 },
 "nbformat": 4,
 "nbformat_minor": 5
}
